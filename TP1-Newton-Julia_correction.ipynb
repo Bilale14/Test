{
 "cells": [
  {
   "cell_type": "markdown",
   "metadata": {},
   "source": [
    "# <center> Polytech Paris Saclay | 3ème année <center>\n",
    "\n",
    "\n",
    "## <center> TP1 Calcul scientifique: la méthode de Newton <center>"
   ]
  },
  {
   "cell_type": "markdown",
   "metadata": {},
   "source": [
    "# Exercice 1"
   ]
  },
  {
   "cell_type": "markdown",
   "metadata": {},
   "source": [
    "Ecrire une fonction **newton(x0, f, df, tol, itmax)** qui met en oeuvre la méthode de Newton pour le cas d'une fonction **f** de dérivée **df** initialisée avec la quantité **x0** et qui s'interrompt lorsque la distance entre deux itérations successives devient inférieure à la quantité **tol** ou lorsque le nombre d'itérations maximal **itmax** est atteint. On attend en sortie une valeur approchée **y** d'une solution de $$f(x)=0$$ et **N** le nombre d'itérations ayant permis d'obtenir cette valeur approchée."
   ]
  },
  {
   "cell_type": "markdown",
   "metadata": {
    "editable": false
   },
   "source": [
    "Soit **f** la fonction de la variable réelle **x** telle que $$f(x)=x^3-4x+1.$$ Calculer la fonction dérivée **df** de **f** (à la main)."
   ]
  },
  {
   "cell_type": "markdown",
   "metadata": {},
   "source": [
    "Rechercher les solutions de l'équation $f(x)=0$ en initialisant successivement la méthode de Newton avec $x0 = -2.5, 0, 2.$"
   ]
  },
  {
   "cell_type": "markdown",
   "metadata": {},
   "source": [
    "## <font color=\"purple\"> Solution </font>"
   ]
  },
  {
   "cell_type": "markdown",
   "metadata": {},
   "source": [
    "On rappelle que la méthode de Newton consiste à partir d'une condition initial $x_0$ puis de raffiner notre estimation d'un zéro de $f$ en calculant les termes de la suite $$ x_{n+1} = x_n - \\frac{f(x_n)}{f'(x_n)}.$$ Pour justifier l'arrêt du calcul des $x_n$ on s'est donné deux critères : <br>\n",
    "- la distance entre deux itérations successives devient inférieure à une quantité **tol**,\n",
    "- le nombre d'itérations maximal **itmax** est atteint.\n",
    "\n",
    "Les deux difficultés principales du TP étaient : <br>\n",
    "- la bonne formulation d'un critère d'arrêt,\n",
    "- la bonne gestion des variables au sein de la boucle de calcul.\n",
    "\n",
    "La première démarche à avoir est : quelle structure globale aura mon code ? En deux mots notre fonction va devoir répéter un même calcul (le calcul de $x_n$) tant qu'une condition n'est pas respectée. Sous cette formulation il est naturel d'utiliser une boucle while. On peut donc résumer notre fonction en 3 blocs : "
   ]
  },
  {
   "cell_type": "code",
   "execution_count": 2,
   "metadata": {},
   "outputs": [
    {
     "data": {
      "text/plain": [
       "newton (generic function with 1 method)"
      ]
     },
     "execution_count": 2,
     "metadata": {},
     "output_type": "execute_result"
    }
   ],
   "source": [
    "function newton(x0, f, df, tol, itmax)\n",
    "    # initialisation des variables \n",
    "    while condition \n",
    "        # mise à jour des variables \n",
    "    end\n",
    "    # on retourne la solution\n",
    "end \n",
    "\n",
    "# N'exécutez pas cette fonction !"
   ]
  },
  {
   "cell_type": "markdown",
   "metadata": {},
   "source": [
    "Pour que notre code se comporte comme on veut, il faut trouver une expression logique qui capture entièrement les critères d'arrêt que l'on s'est fixé. Informellement on veut s'arrêter si le nombre d'itérations dépasse un nombre maximum d'itérations **itmax** OU si l'écart entre deux itérations successives est inférieure à une quantité **tol**.\n",
    "\n",
    "Si on appelle **N** notre nombre d'itérations dans le code, la première condition s'écrit logiquement **N** > **itmax**. Maintenant si $x_N$ correspond à la valeur de $x_n$ à l'itération **N**, la deuxième condition s'écrit $\\| x_N - x_{N-1} \\| < tol$. On veut s'arrêter si l'une, l'autre ou les deux conditions sont vraies donc la condition globale d'arrêt est donnée par (**N** > **itmax** OU $\\| x_N - x_{N-1} \\| < tol$). \n",
    "\n",
    "Attention toutefois car dans notre boucle while on veut que la condition soit fausse pour arrêter le calcul. Il faut donc prendre la négation de la condition qu'on a formulée plus haut c'est-à-dire non(**N** > **itmax** OU $\\| x_N - x_{N-1} \\| < tol$). On peut donc formuler la condition dans notre code de deux manières : <br>\n",
    "- soit avec !(N > itmax || abs(xN - xN-1) < tol), le ! permettant de prendre la négation et || est le OU logique en Julia,\n",
    "- soit en utilisant la formule non(A ou B) = non(A) et non(B), la formule devient N <= itmax && abs(xN - xN-1) > tol.\n",
    "\n",
    "On peut ainsi compléter un peu notre fonction : "
   ]
  },
  {
   "cell_type": "code",
   "execution_count": 3,
   "metadata": {},
   "outputs": [
    {
     "data": {
      "text/plain": [
       "newton (generic function with 1 method)"
      ]
     },
     "execution_count": 3,
     "metadata": {},
     "output_type": "execute_result"
    }
   ],
   "source": [
    "function newton(x0, f, df, tol, itmax)\n",
    "    # initialisation des variables \n",
    "    while N <= itmax && abs(xN - xN-1) > tol \n",
    "        # mise à jour des variables \n",
    "    end\n",
    "    # on retourne la solution\n",
    "end \n",
    "\n",
    "# N'exécutez pas cette fonction !"
   ]
  },
  {
   "cell_type": "markdown",
   "metadata": {},
   "source": [
    "Il reste à gérer correctement les variables. De la manière dont on a formulé notre condition d'arrêt, il nous faut au moins 3 variables : le nombre d'itérations N, la valeur de $x_n$ à l'itération $N$ et la valeur de $x_n$ à l'itération $N-1$ pour pouvoir calculer l'écart entre les deux. Pour stocker les différentes valeurs des $x_n$ deux solutions sont possibles : <br>\n",
    "- ou bien on stocke chaque variable dans un vecteur. Cela a un inconvénient majeur : ne sachant pas quand le code s'arrêtera on ne peut pas allouer à l'avance de la mémoire pour le vecteur. Cette méthode n'est également pas optimale en espace mémoire utilisé.\n",
    "- Ou bien on ne garde en mémoire que les deux dernières itérations calculées. Pour cela je propose de leur donner un nom explicite : **old_x** stockera toujours l'ancienne valeur, $x_{N-1}$ i.e celle qui a été calculée à l'itération précédente et **new_x** stockera la nouvelle valeur pour $x_N$.\n",
    "\n",
    "Avec cette deuxième méthode on aura à la fin de l'exécution du bloc de la boucle while $x_N$ = new_x et $x_{N-1}$ = old_x. La condition sur l'écart successif entre deux itérations s'écrit alors abs(new_x-old_x) > tol. \n",
    "\n",
    "!! Attention !! <br>\n",
    "Quand l'interpréteur va répéter une exécution du bloc de la boucle while, il faut bien faire attention à ce que le nouvel old_x soit la valeur actuelle du new_x ! Si vous ne mettez pas à jour old_x il va recalculer en boucle la même valeur de new_x.\n",
    "\n",
    "Notre fonction ressemble maintenant à : "
   ]
  },
  {
   "cell_type": "code",
   "execution_count": 4,
   "metadata": {},
   "outputs": [
    {
     "data": {
      "text/plain": [
       "newton (generic function with 1 method)"
      ]
     },
     "execution_count": 4,
     "metadata": {},
     "output_type": "execute_result"
    }
   ],
   "source": [
    "function newton(x0, f, df, tol, itmax)\n",
    "    # initialisation des variables \n",
    "    while N <= itmax && abs(new_x - old_x) > tol \n",
    "        old_x = new_x\n",
    "        new_x = old_x - f(old_x)/df(old_x)\n",
    "        N = N+1\n",
    "    end\n",
    "    # on retourne la solution\n",
    "end \n",
    "\n",
    "# N'exécutez pas cette fonction !"
   ]
  },
  {
   "cell_type": "markdown",
   "metadata": {},
   "source": [
    "Il ne reste plus qu'à initialiser correctement nos variables et retourner les bonnes valeurs. Du fait qu'on update directement old_x par la valeur de new_x, il faut en fait initialiser new_x par x0 et non old_x. Pour être sûr, quelles que soient les valeurs de x0 et tol, que la condition abs(new_w - old_x) > tol soit vraie on pose old_x = new_x + 2*tol. \n",
    "\n",
    "On initialise également N par 1. Cela veut dire que pendant l'exécution du code dans la boucle while N est égal au nombre d'itérations en comptant celle qui est en train d'être exécutée. Après la mise à jour de N en fin de bloc N est égal au futur nombre d'itérations si on exécute une nouvelle fois le bloc. Cela nous garantit que si N = itmax +1 alors on n'effectuera pas l'itération itmax + 1. Toutefois cela veut dire que le nombre total d'itérations effectué est égal à N-1. Il y a mille façons de gérer cela différemment, on aurait pu aussi initialiser N à 0 et imposer N < itmax.\n",
    "\n",
    "On obtient le code final pour newton : "
   ]
  },
  {
   "cell_type": "code",
   "execution_count": 5,
   "metadata": {},
   "outputs": [
    {
     "data": {
      "text/plain": [
       "newton (generic function with 1 method)"
      ]
     },
     "execution_count": 5,
     "metadata": {},
     "output_type": "execute_result"
    }
   ],
   "source": [
    "function newton(x0, f, df, tol, itmax)\n",
    "\n",
    "    N = 1\n",
    "    old_x = x0 + 2*tol\n",
    "    new_x = x0\n",
    "    \n",
    "    while N <= itmax && abs(new_x - old_x) > tol \n",
    "        \n",
    "        if abs(df(old_x)) < 1e-10   # si la dérivée est numériquement nulle on retourne les valeurs en cours\n",
    "            return old_x, N\n",
    "        end\n",
    "        \n",
    "        old_x = new_x\n",
    "        new_x = old_x - f(old_x)/df(old_x)\n",
    "        N = N+1\n",
    "    end\n",
    "    \n",
    "    return new_x, N-1\n",
    "end "
   ]
  },
  {
   "cell_type": "markdown",
   "metadata": {},
   "source": [
    "On vérifie sur les exemples que tout marche, voilà une petite fonction test pour afficher les résultats : "
   ]
  },
  {
   "cell_type": "code",
   "execution_count": 12,
   "metadata": {},
   "outputs": [
    {
     "data": {
      "text/plain": [
       "test (generic function with 1 method)"
      ]
     },
     "execution_count": 12,
     "metadata": {},
     "output_type": "execute_result"
    }
   ],
   "source": [
    "function test(x0, f, df, tol, itmax)\n",
    "    y, N = newton(x0, f, df, tol, itmax)\n",
    "    println(\"x0 = \", x0, \" tol = \", tol, \" itmax = \", itmax, \"\\nSolution : (y, f(y)) = ( \", y, \" , \", f(y), \" ) \", \" en \", N, \" itérations. \")\n",
    "end"
   ]
  },
  {
   "cell_type": "code",
   "execution_count": 25,
   "metadata": {},
   "outputs": [
    {
     "name": "stdout",
     "output_type": "stream",
     "text": [
      "x0 = -2.5 tol = 0.001 itmax = 10\n",
      "Solution : (y, f(y)) = ( -2.114907541509005 , -3.0373747961220943e-10 )  en 4 itérations. \n",
      "x0 = -2.5 tol = 1.0e-14 itmax = 10\n",
      "Solution : (y, f(y)) = ( -2.114907541476756 , -1.7763568394002505e-15 )  en 6 itérations. \n",
      "x0 = -2.5 tol = 1.5e-16 itmax = 10\n",
      "Solution : (y, f(y)) = ( -2.114907541476756 , -1.7763568394002505e-15 )  en 6 itérations. \n",
      "\n",
      "x0 = 0 tol = 0.001 itmax = 10\n",
      "Solution : (y, f(y)) = ( 0.25410168836283464 , 8.441469745434915e-12 )  en 3 itérations. \n",
      "x0 = 0 tol = 1.0e-14 itmax = 10\n",
      "Solution : (y, f(y)) = ( 0.2541016883650524 , 0.0 )  en 5 itérations. \n",
      "x0 = 0 tol = 1.0e-16 itmax = 10\n",
      "Solution : (y, f(y)) = ( 0.2541016883650524 , 0.0 )  en 5 itérations. \n",
      "\n",
      "x0 = 2 tol = 0.001 itmax = 10\n",
      "Solution : (y, f(y)) = ( 1.8608058791604425 , 1.663940158991295e-7 )  en 3 itérations. \n",
      "x0 = 2 tol = 1.0e-14 itmax = 10\n",
      "Solution : (y, f(y)) = ( 1.8608058531117033 , 0.0 )  en 5 itérations. \n",
      "x0 = 2 tol = 1.0e-16 itmax = 10\n",
      "Solution : (y, f(y)) = ( 2 , 1 )  en 0 itérations. \n"
     ]
    }
   ],
   "source": [
    "f(x) = x^3 - 4x + 1\n",
    "df(x) = 3*x^2 - 4\n",
    "\n",
    "itmax = 10\n",
    "\n",
    "x0 = -2.5\n",
    "tol = 1e-3\n",
    "test(x0, f, df, tol, itmax)\n",
    "tol = 1e-14\n",
    "test(x0, f, df, tol, itmax)\n",
    "tol = 1.5e-16\n",
    "test(x0, f, df, tol, itmax) # limite de précision \n",
    "println(\"\")\n",
    "x0 = 0\n",
    "tol = 1e-3\n",
    "test(x0, f, df, tol, itmax)\n",
    "tol = 1e-14\n",
    "test(x0, f, df, tol, itmax)\n",
    "tol = 1e-16\n",
    "test(x0, f, df, tol, itmax)\n",
    "println(\"\")\n",
    "x0 = 2\n",
    "tol = 1e-3\n",
    "test(x0, f, df, tol, itmax)\n",
    "tol = 1e-14\n",
    "test(x0, f, df, tol, itmax)\n",
    "tol = 1e-16\n",
    "test(x0, f, df, tol, itmax)"
   ]
  },
  {
   "cell_type": "markdown",
   "metadata": {},
   "source": [
    "# Exercice 2"
   ]
  },
  {
   "cell_type": "markdown",
   "metadata": {},
   "source": [
    "On souhaite résoudre dans $\\mathbb{R}$ une équation du troisième degré à coefficients réels $ax^3+bx^2+cx+d=0$. Ecrire un programme julia qui fait les tâches suivantes:"
   ]
  },
  {
   "cell_type": "markdown",
   "metadata": {},
   "source": [
    "   * Trouver une racine réelle $x1$ par la méthode de Newton: écrire une fonction **newtonpoly(a, b, c, d, x0, tol, itmax)** "
   ]
  },
  {
   "cell_type": "markdown",
   "metadata": {},
   "source": [
    "  * Diviser le polynôme par $(x-x1)$"
   ]
  },
  {
   "cell_type": "markdown",
   "metadata": {},
   "source": [
    "  * Résoudre l'équation du second degré résultante pour obtenir les deux autres racines."
   ]
  },
  {
   "cell_type": "markdown",
   "metadata": {},
   "source": [
    "## <font color=\"purple\"> Solution </font>"
   ]
  },
  {
   "cell_type": "markdown",
   "metadata": {},
   "source": [
    "La première question consiste à réutiliser la fonction codée précédemment. Le code est court : on forme le poylnôme, on calcule sa dérivée et on appelle la fonction Newton."
   ]
  },
  {
   "cell_type": "code",
   "execution_count": 33,
   "metadata": {},
   "outputs": [
    {
     "data": {
      "text/plain": [
       "NewtonPoly (generic function with 1 method)"
      ]
     },
     "execution_count": 33,
     "metadata": {},
     "output_type": "execute_result"
    }
   ],
   "source": [
    "function NewtonPoly(a::Float64, b::Float64, c::Float64, d::Float64, x0::Float64, tol::Float64, itmax::Int)\n",
    "    f(x) = a*x^3 + b*x^2 + c*x + d\n",
    "    df(x) = 3*a*x^2 + 2*b*x + c\n",
    "    \n",
    "    y, N = newton(x0, f, df, tol, itmax)\n",
    "    \n",
    "    return y\n",
    "end"
   ]
  },
  {
   "cell_type": "markdown",
   "metadata": {},
   "source": [
    "Pour la deuxième question on veut résoudre en A, B, C l'égalité : \n",
    "$$ (x-x_1)(Ax^2 + Bx + C) = ax^3 + bx^2 + cx + d. $$ \n",
    "On développe et on obtient le système d'équations : \n",
    "$$\\begin{cases}\n",
    "A = a \\\\\n",
    "-Ax_1 + B = b \\\\\n",
    "C - Bx_1 = c \\\\\n",
    "-Cx_1 = d \n",
    "\\end{cases}$$\n",
    "\n",
    "Les solutions sont \n",
    "$$ \\begin{cases} \n",
    "A = a \\\\\n",
    "B = a*x_1 + b \\\\\n",
    "C = -d/x_1 \\\\\n",
    "\\end{cases}$$\n",
    "\n",
    "et on implémente ça dans une fonction Division."
   ]
  },
  {
   "cell_type": "code",
   "execution_count": 34,
   "metadata": {},
   "outputs": [
    {
     "data": {
      "text/plain": [
       "Division (generic function with 1 method)"
      ]
     },
     "execution_count": 34,
     "metadata": {},
     "output_type": "execute_result"
    }
   ],
   "source": [
    "function Division(a::Float64, b::Float64, c::Float64, d::Float64, x::Float64) \n",
    "    return a, a*x+b, -d/x\n",
    "end"
   ]
  },
  {
   "cell_type": "markdown",
   "metadata": {},
   "source": [
    "On peut alors concaténer nos deux fonctions avec une résolution d'un polynôme du second degré :"
   ]
  },
  {
   "cell_type": "code",
   "execution_count": 35,
   "metadata": {},
   "outputs": [
    {
     "data": {
      "text/plain": [
       "PolySolver (generic function with 1 method)"
      ]
     },
     "execution_count": 35,
     "metadata": {},
     "output_type": "execute_result"
    }
   ],
   "source": [
    "function PolySolver(a::Float64, b::Float64, c::Float64, d::Float64, x0::Float64, tol::Float64, itmax::Int)\n",
    "    \n",
    "    x1 = NewtonPoly(a, b, c, d, x0, tol, itmax)\n",
    "    A, B, C = Division(a, b, c, d, x1)\n",
    "    \n",
    "    Delta = B*B - 4*A*C\n",
    "    \n",
    "    if Delta > 0\n",
    "        return x1, (-B+sqrt(Delta))/(2*A), (-B-sqrt(Delta))/(2*A)\n",
    "    else\n",
    "        return x1, (-B+sqrt(Complex(Delta)))/(2*A), (-B-sqrt(Complex(Delta)))/(2*A)\n",
    "    end\n",
    "end"
   ]
  },
  {
   "cell_type": "markdown",
   "metadata": {},
   "source": [
    "On test avec un polynôme aux coefficients choisis aléatoirement : "
   ]
  },
  {
   "cell_type": "code",
   "execution_count": 44,
   "metadata": {},
   "outputs": [
    {
     "name": "stdout",
     "output_type": "stream",
     "text": [
      "f(root1) = 0.0\n",
      "f(root2) = -1.1102230246251565e-16 - 2.220446049250313e-16im\n",
      "f(root3) = -1.1102230246251565e-16 + 2.220446049250313e-16im\n"
     ]
    }
   ],
   "source": [
    "# Test\n",
    "a = rand()\n",
    "b = rand()\n",
    "c = rand()\n",
    "d = rand()\n",
    "\n",
    "x0 = rand()\n",
    "tol = 1e-10\n",
    "itmax = 100\n",
    "root1, root2, root3 = PolySolver(a, b, c, d, x0, tol, itmax)\n",
    "\n",
    "f(x) = a*x^3 + b*x^2 + c*x + d\n",
    "println(\"f(root1) = \", f(root1))\n",
    "println(\"f(root2) = \", f(root2))\n",
    "println(\"f(root3) = \", f(root3))"
   ]
  },
  {
   "cell_type": "code",
   "execution_count": null,
   "metadata": {
    "collapsed": true
   },
   "outputs": [],
   "source": []
  }
 ],
 "metadata": {
  "celltoolbar": "Format de la Cellule Texte Brut",
  "kernelspec": {
   "display_name": "Julia 1.0.4",
   "language": "julia",
   "name": "julia-1.0"
  },
  "language_info": {
   "file_extension": ".jl",
   "mimetype": "application/julia",
   "name": "julia",
   "version": "1.0.4"
  }
 },
 "nbformat": 4,
 "nbformat_minor": 4
}
