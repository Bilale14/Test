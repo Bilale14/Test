{
 "cells": [
  {
   "cell_type": "markdown",
   "metadata": {},
   "source": [
    "## Polytech Paris Saclay | 3ème année\n",
    "\n",
    "\n",
    "## TP2 Calcul scientifique: la factorisation LU"
   ]
  },
  {
   "cell_type": "markdown",
   "metadata": {},
   "source": [
    "- rappel"
   ]
  },
  {
   "cell_type": "markdown",
   "metadata": {},
   "source": [
    "La factorisation LU consiste à factoriser une matrice A en un produit de deux matrices: une matrice triangulaire inférieure L et une matrice triangulaire supérieure U telles que A = L\\*U. Le système Ax=b devient alors LUx=b. Une telle factorisation permet de résoudre plus facilement le nouveau système: deux résolutions successives: une par descente et une par remontée."
   ]
  },
  {
   "cell_type": "markdown",
   "metadata": {},
   "source": [
    "       Algorithm 1: In place LU factorisation without pivoting\n",
    "       Require: A is a n*n matrix\n",
    "        1: for k <- 1 to n-1 do\n",
    "        2:    for i <- k+1 to n do\n",
    "        3:       A(i,j) <- A(i,j)/A(k,k)\n",
    "        4:    end for\n",
    "        5:    for i <- k+1 to n do\n",
    "        6:       for j <- k+1 to n do\n",
    "        7:          A(i,j) <- A(i,j) - A(i,k)*A(k,j)\n",
    "        8:       end for\n",
    "        9:    end for\n",
    "        10: end for\n",
    "   "
   ]
  },
  {
   "cell_type": "markdown",
   "metadata": {},
   "source": [
    "- écrire une fonction *monLU(A::Matrix{Float64})* qui met en oeuvre la factorisation LU sans pivotage."
   ]
  },
  {
   "cell_type": "markdown",
   "metadata": {},
   "source": [
    "- écrire une fonction *descente(L::Matrix{Float64}, b::Vector{Float64})* qui retourne *z* en mettant en oeuvre la résolution par decente d'un système triangulaire inférieur."
   ]
  },
  {
   "cell_type": "markdown",
   "metadata": {},
   "source": [
    "- écrire une fonction *remontee(U::Matrix{Float64}, z::Vector{Float64})* qui retourne *x* en mettant en oeuvre la résolution par remontée d'un système triangulaire supérieur."
   ]
  },
  {
   "cell_type": "markdown",
   "metadata": {},
   "source": [
    "- écrire une fonction *monPivotLu(A::Matrix{Float64})* qui met en oeuvre la factorisation LU avec pivotage partiel."
   ]
  },
  {
   "cell_type": "markdown",
   "metadata": {},
   "source": [
    "- tester vos fonctions en résolvant les systèmes d'équations suivants:\n",
    "  1. premier système à résoudre:\n",
    "$$\\begin{align*} \n",
    "x_1 + x_2 + 2x_3 &=  8 \\\\ \n",
    "-x_1 - 2x_2 + 3x_3 &=  1 \\\\\n",
    "3x_1 - 7x_2 + 4x_3 &= 10\n",
    "\\end{align*}$$\n",
    "  1. deuxième système à résoudre:\n",
    "$$\\begin{align*} \n",
    "x_1 - x_2 + 2x_3 - x_4 &= -1 \\\\ \n",
    "2x_1 + x_2 - 2x_3 - 2x_4 &= -2 \\\\\n",
    "-x_1 + 2x_2 - 4x_3 + x_4 &=  1 \\\\\n",
    "3x_1 - 3x_4 &= -3\n",
    "\\end{align*}$$"
   ]
  },
  {
   "cell_type": "markdown",
   "metadata": {},
   "source": [
    "## fin du TP2"
   ]
  },
  {
   "cell_type": "markdown",
   "metadata": {
    "editable": false
   },
   "source": [
    "Soit **f** la fonction de la variable réelle **x** telle que $$f(x)=x^3-4x+1.$$ Calculer la fonction dérivée **df** de **f** (à la main)."
   ]
  }
 ],
 "metadata": {
  "celltoolbar": "Format de la Cellule Texte Brut",
  "kernelspec": {
   "display_name": "Julia 1.3.0",
   "language": "julia",
   "name": "julia-1.3"
  },
  "language_info": {
   "file_extension": ".jl",
   "mimetype": "application/julia",
   "name": "julia",
   "version": "1.3.0"
  }
 },
 "nbformat": 4,
 "nbformat_minor": 4
}
